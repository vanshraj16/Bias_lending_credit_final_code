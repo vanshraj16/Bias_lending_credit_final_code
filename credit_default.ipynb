{
 "cells": [
  {
   "cell_type": "markdown",
   "metadata": {},
   "source": [
    "## Importing libraries and Data Reading"
   ]
  },
  {
   "cell_type": "code",
   "execution_count": 2,
   "metadata": {},
   "outputs": [],
   "source": [
    "\n",
    "from sklearn.metrics import f1_score, confusion_matrix,accuracy_score\n",
    "\n",
    "def eval(y_pred,y_test):\n",
    "    cm=confusion_matrix(y_test,y_pred)\n",
    "    TN = cm[0, 0]\n",
    "    FP = cm[0, 1]\n",
    "    \n",
    "    FPR = FP/ (FP + TN)\n",
    "    acc=accuracy_score(y_test,y_pred)\n",
    "    print(cm)\n",
    "    print('False Positive Rate', FPR)\n",
    "    print('Accuracy', acc)\n"
   ]
  },
  {
   "cell_type": "code",
   "execution_count": 3,
   "metadata": {},
   "outputs": [],
   "source": [
    "import numpy as np\n",
    "import pandas as pd\n",
    "from sklearn.metrics import confusion_matrix\n",
    "from sklearn.metrics import classification_report\n",
    "from sklearn.utils.class_weight import compute_class_weight\n",
    "import warnings\n",
    "warnings.filterwarnings('ignore')"
   ]
  },
  {
   "cell_type": "code",
   "execution_count": 4,
   "metadata": {},
   "outputs": [],
   "source": [
    "from ucimlrepo import fetch_ucirepo \n",
    "  \n",
    "\n",
    "default_of_credit_card_clients = fetch_ucirepo(id=350) \n",
    "  \n",
    "X = default_of_credit_card_clients.data.features \n",
    "y = default_of_credit_card_clients.data.targets "
   ]
  },
  {
   "cell_type": "code",
   "execution_count": 5,
   "metadata": {},
   "outputs": [],
   "source": [
    "X.columns=descriptions = [\n",
    "    \"Credit limit\",\n",
    "    \"Gender\",\n",
    "    \"Education level\",\n",
    "    \"Marital status\",\n",
    "    \"Age\",\n",
    "    \"Repayment status in September\",\n",
    "    \"Repayment status in August\",\n",
    "    \"Repayment status in July\",\n",
    "    \"Repayment status in June\",\n",
    "    \"Repayment status in May\",\n",
    "    \"Repayment status in April\",\n",
    "    \"Bill amount in September\",\n",
    "    \"Bill amount in August\",\n",
    "    \"Bill amount in July\",\n",
    "    \"Bill amount in June\",\n",
    "    \"Bill amount in May\",\n",
    "    \"Bill amount in April\",\n",
    "    \"Amount paid in September\",\n",
    "    \"Amount paid in August\",\n",
    "    \"Amount paid in July\",\n",
    "    \"Amount paid in June\",\n",
    "    \"Amount paid in May\",\n",
    "    \"Amount paid in April\"\n",
    "]\n"
   ]
  },
  {
   "cell_type": "code",
   "execution_count": 6,
   "metadata": {},
   "outputs": [],
   "source": [
    "\n",
    "X['Gender']=X['Gender']-1"
   ]
  },
  {
   "cell_type": "code",
   "execution_count": 7,
   "metadata": {},
   "outputs": [
    {
     "data": {
      "text/html": [
       "<div>\n",
       "<style scoped>\n",
       "    .dataframe tbody tr th:only-of-type {\n",
       "        vertical-align: middle;\n",
       "    }\n",
       "\n",
       "    .dataframe tbody tr th {\n",
       "        vertical-align: top;\n",
       "    }\n",
       "\n",
       "    .dataframe thead th {\n",
       "        text-align: right;\n",
       "    }\n",
       "</style>\n",
       "<table border=\"1\" class=\"dataframe\">\n",
       "  <thead>\n",
       "    <tr style=\"text-align: right;\">\n",
       "      <th></th>\n",
       "      <th>Credit limit</th>\n",
       "      <th>Gender</th>\n",
       "      <th>Education level</th>\n",
       "      <th>Marital status</th>\n",
       "      <th>Age</th>\n",
       "      <th>Repayment status in September</th>\n",
       "      <th>Repayment status in August</th>\n",
       "      <th>Repayment status in July</th>\n",
       "      <th>Repayment status in June</th>\n",
       "      <th>Repayment status in May</th>\n",
       "      <th>...</th>\n",
       "      <th>Bill amount in July</th>\n",
       "      <th>Bill amount in June</th>\n",
       "      <th>Bill amount in May</th>\n",
       "      <th>Bill amount in April</th>\n",
       "      <th>Amount paid in September</th>\n",
       "      <th>Amount paid in August</th>\n",
       "      <th>Amount paid in July</th>\n",
       "      <th>Amount paid in June</th>\n",
       "      <th>Amount paid in May</th>\n",
       "      <th>Amount paid in April</th>\n",
       "    </tr>\n",
       "  </thead>\n",
       "  <tbody>\n",
       "    <tr>\n",
       "      <th>0</th>\n",
       "      <td>20000</td>\n",
       "      <td>1</td>\n",
       "      <td>2</td>\n",
       "      <td>1</td>\n",
       "      <td>24</td>\n",
       "      <td>2</td>\n",
       "      <td>2</td>\n",
       "      <td>-1</td>\n",
       "      <td>-1</td>\n",
       "      <td>-2</td>\n",
       "      <td>...</td>\n",
       "      <td>689</td>\n",
       "      <td>0</td>\n",
       "      <td>0</td>\n",
       "      <td>0</td>\n",
       "      <td>0</td>\n",
       "      <td>689</td>\n",
       "      <td>0</td>\n",
       "      <td>0</td>\n",
       "      <td>0</td>\n",
       "      <td>0</td>\n",
       "    </tr>\n",
       "    <tr>\n",
       "      <th>1</th>\n",
       "      <td>120000</td>\n",
       "      <td>1</td>\n",
       "      <td>2</td>\n",
       "      <td>2</td>\n",
       "      <td>26</td>\n",
       "      <td>-1</td>\n",
       "      <td>2</td>\n",
       "      <td>0</td>\n",
       "      <td>0</td>\n",
       "      <td>0</td>\n",
       "      <td>...</td>\n",
       "      <td>2682</td>\n",
       "      <td>3272</td>\n",
       "      <td>3455</td>\n",
       "      <td>3261</td>\n",
       "      <td>0</td>\n",
       "      <td>1000</td>\n",
       "      <td>1000</td>\n",
       "      <td>1000</td>\n",
       "      <td>0</td>\n",
       "      <td>2000</td>\n",
       "    </tr>\n",
       "    <tr>\n",
       "      <th>2</th>\n",
       "      <td>90000</td>\n",
       "      <td>1</td>\n",
       "      <td>2</td>\n",
       "      <td>2</td>\n",
       "      <td>34</td>\n",
       "      <td>0</td>\n",
       "      <td>0</td>\n",
       "      <td>0</td>\n",
       "      <td>0</td>\n",
       "      <td>0</td>\n",
       "      <td>...</td>\n",
       "      <td>13559</td>\n",
       "      <td>14331</td>\n",
       "      <td>14948</td>\n",
       "      <td>15549</td>\n",
       "      <td>1518</td>\n",
       "      <td>1500</td>\n",
       "      <td>1000</td>\n",
       "      <td>1000</td>\n",
       "      <td>1000</td>\n",
       "      <td>5000</td>\n",
       "    </tr>\n",
       "    <tr>\n",
       "      <th>3</th>\n",
       "      <td>50000</td>\n",
       "      <td>1</td>\n",
       "      <td>2</td>\n",
       "      <td>1</td>\n",
       "      <td>37</td>\n",
       "      <td>0</td>\n",
       "      <td>0</td>\n",
       "      <td>0</td>\n",
       "      <td>0</td>\n",
       "      <td>0</td>\n",
       "      <td>...</td>\n",
       "      <td>49291</td>\n",
       "      <td>28314</td>\n",
       "      <td>28959</td>\n",
       "      <td>29547</td>\n",
       "      <td>2000</td>\n",
       "      <td>2019</td>\n",
       "      <td>1200</td>\n",
       "      <td>1100</td>\n",
       "      <td>1069</td>\n",
       "      <td>1000</td>\n",
       "    </tr>\n",
       "    <tr>\n",
       "      <th>4</th>\n",
       "      <td>50000</td>\n",
       "      <td>0</td>\n",
       "      <td>2</td>\n",
       "      <td>1</td>\n",
       "      <td>57</td>\n",
       "      <td>-1</td>\n",
       "      <td>0</td>\n",
       "      <td>-1</td>\n",
       "      <td>0</td>\n",
       "      <td>0</td>\n",
       "      <td>...</td>\n",
       "      <td>35835</td>\n",
       "      <td>20940</td>\n",
       "      <td>19146</td>\n",
       "      <td>19131</td>\n",
       "      <td>2000</td>\n",
       "      <td>36681</td>\n",
       "      <td>10000</td>\n",
       "      <td>9000</td>\n",
       "      <td>689</td>\n",
       "      <td>679</td>\n",
       "    </tr>\n",
       "  </tbody>\n",
       "</table>\n",
       "<p>5 rows × 23 columns</p>\n",
       "</div>"
      ],
      "text/plain": [
       "   Credit limit  Gender  Education level  Marital status  Age  \\\n",
       "0         20000       1                2               1   24   \n",
       "1        120000       1                2               2   26   \n",
       "2         90000       1                2               2   34   \n",
       "3         50000       1                2               1   37   \n",
       "4         50000       0                2               1   57   \n",
       "\n",
       "   Repayment status in September  Repayment status in August  \\\n",
       "0                              2                           2   \n",
       "1                             -1                           2   \n",
       "2                              0                           0   \n",
       "3                              0                           0   \n",
       "4                             -1                           0   \n",
       "\n",
       "   Repayment status in July  Repayment status in June  \\\n",
       "0                        -1                        -1   \n",
       "1                         0                         0   \n",
       "2                         0                         0   \n",
       "3                         0                         0   \n",
       "4                        -1                         0   \n",
       "\n",
       "   Repayment status in May  ...  Bill amount in July  Bill amount in June  \\\n",
       "0                       -2  ...                  689                    0   \n",
       "1                        0  ...                 2682                 3272   \n",
       "2                        0  ...                13559                14331   \n",
       "3                        0  ...                49291                28314   \n",
       "4                        0  ...                35835                20940   \n",
       "\n",
       "   Bill amount in May  Bill amount in April  Amount paid in September  \\\n",
       "0                   0                     0                         0   \n",
       "1                3455                  3261                         0   \n",
       "2               14948                 15549                      1518   \n",
       "3               28959                 29547                      2000   \n",
       "4               19146                 19131                      2000   \n",
       "\n",
       "   Amount paid in August  Amount paid in July  Amount paid in June  \\\n",
       "0                    689                    0                    0   \n",
       "1                   1000                 1000                 1000   \n",
       "2                   1500                 1000                 1000   \n",
       "3                   2019                 1200                 1100   \n",
       "4                  36681                10000                 9000   \n",
       "\n",
       "   Amount paid in May  Amount paid in April  \n",
       "0                   0                     0  \n",
       "1                   0                  2000  \n",
       "2                1000                  5000  \n",
       "3                1069                  1000  \n",
       "4                 689                   679  \n",
       "\n",
       "[5 rows x 23 columns]"
      ]
     },
     "execution_count": 7,
     "metadata": {},
     "output_type": "execute_result"
    }
   ],
   "source": [
    "X.head()"
   ]
  },
  {
   "cell_type": "code",
   "execution_count": 8,
   "metadata": {},
   "outputs": [
    {
     "data": {
      "text/plain": [
       "Credit limit                     0\n",
       "Gender                           0\n",
       "Education level                  0\n",
       "Marital status                   0\n",
       "Age                              0\n",
       "Repayment status in September    0\n",
       "Repayment status in August       0\n",
       "Repayment status in July         0\n",
       "Repayment status in June         0\n",
       "Repayment status in May          0\n",
       "Repayment status in April        0\n",
       "Bill amount in September         0\n",
       "Bill amount in August            0\n",
       "Bill amount in July              0\n",
       "Bill amount in June              0\n",
       "Bill amount in May               0\n",
       "Bill amount in April             0\n",
       "Amount paid in September         0\n",
       "Amount paid in August            0\n",
       "Amount paid in July              0\n",
       "Amount paid in June              0\n",
       "Amount paid in May               0\n",
       "Amount paid in April             0\n",
       "dtype: int64"
      ]
     },
     "execution_count": 8,
     "metadata": {},
     "output_type": "execute_result"
    }
   ],
   "source": [
    "X.isnull().sum()"
   ]
  },
  {
   "cell_type": "code",
   "execution_count": 9,
   "metadata": {},
   "outputs": [],
   "source": [
    "\n",
    "def map_age(x):\n",
    "    if x<40:\n",
    "        return 1\n",
    "    elif x<60:\n",
    "        return 2\n",
    "    else:\n",
    "        return 3"
   ]
  },
  {
   "cell_type": "code",
   "execution_count": 10,
   "metadata": {},
   "outputs": [],
   "source": [
    "\n",
    "X['Age'] = X['Age'].map(map_age)\n"
   ]
  },
  {
   "cell_type": "code",
   "execution_count": 11,
   "metadata": {},
   "outputs": [
    {
     "name": "stdout",
     "output_type": "stream",
     "text": [
      "<class 'pandas.core.frame.DataFrame'>\n",
      "RangeIndex: 30000 entries, 0 to 29999\n",
      "Data columns (total 23 columns):\n",
      " #   Column                         Non-Null Count  Dtype\n",
      "---  ------                         --------------  -----\n",
      " 0   Credit limit                   30000 non-null  int64\n",
      " 1   Gender                         30000 non-null  int64\n",
      " 2   Education level                30000 non-null  int64\n",
      " 3   Marital status                 30000 non-null  int64\n",
      " 4   Age                            30000 non-null  int64\n",
      " 5   Repayment status in September  30000 non-null  int64\n",
      " 6   Repayment status in August     30000 non-null  int64\n",
      " 7   Repayment status in July       30000 non-null  int64\n",
      " 8   Repayment status in June       30000 non-null  int64\n",
      " 9   Repayment status in May        30000 non-null  int64\n",
      " 10  Repayment status in April      30000 non-null  int64\n",
      " 11  Bill amount in September       30000 non-null  int64\n",
      " 12  Bill amount in August          30000 non-null  int64\n",
      " 13  Bill amount in July            30000 non-null  int64\n",
      " 14  Bill amount in June            30000 non-null  int64\n",
      " 15  Bill amount in May             30000 non-null  int64\n",
      " 16  Bill amount in April           30000 non-null  int64\n",
      " 17  Amount paid in September       30000 non-null  int64\n",
      " 18  Amount paid in August          30000 non-null  int64\n",
      " 19  Amount paid in July            30000 non-null  int64\n",
      " 20  Amount paid in June            30000 non-null  int64\n",
      " 21  Amount paid in May             30000 non-null  int64\n",
      " 22  Amount paid in April           30000 non-null  int64\n",
      "dtypes: int64(23)\n",
      "memory usage: 5.3 MB\n"
     ]
    }
   ],
   "source": [
    "X.info()"
   ]
  },
  {
   "cell_type": "markdown",
   "metadata": {},
   "source": [
    "# Exploratory Data Analysis"
   ]
  },
  {
   "cell_type": "code",
   "execution_count": 12,
   "metadata": {},
   "outputs": [],
   "source": [
    "df=X.copy()\n",
    "df['y']=y\n",
    "\n",
    "df['y']=df['y'].map({1:'Default',0:'Non-Default'})\n",
    "df['Gender']=df['Gender'].map({1:'Female',0:'Male'})\n",
    "df['Education level']=df['Education level'].map({1:'graduate school',2:'university',3:'high school',4:'others'})"
   ]
  },
  {
   "cell_type": "code",
   "execution_count": 13,
   "metadata": {},
   "outputs": [
    {
     "data": {
      "image/png": "[encoded data removed]",
      "text/plain": [
       "<Figure size 600x600 with 4 Axes>"
      ]
     },
     "metadata": {},
     "output_type": "display_data"
    }
   ],
   "source": [
    "import matplotlib.pyplot as plt\n",
    "\n",
    "fig, axs = plt.subplots(2, 2, figsize=(6,6))\n",
    "\n",
    "labels = ['Non-Default', 'Default']\n",
    "start_angle = 140\n",
    "\n",
    "# Plot for Female and Credit limit < 140000\n",
    "axs[0, 0].pie(df[(df['Gender'] == 'Female') & (df['Credit limit'] < 140000)]['y'].value_counts(), labels=labels, autopct='%1.1f%%', startangle=start_angle)\n",
    "axs[0, 0].set_title('Female & Credit limit < 140000')\n",
    "\n",
    "# Plot for Male and Credit limit < 140000\n",
    "axs[0, 1].pie(df[(df['Gender'] == 'Male') & (df['Credit limit'] < 140000)]['y'].value_counts(), labels=labels, autopct='%1.1f%%', startangle=start_angle)\n",
    "axs[0, 1].set_title('Male & Credit limit < 140000')\n",
    "\n",
    "# Plot for Female and Credit limit >= 140000\n",
    "axs[1, 0].pie(df[(df['Gender'] == 'Female') & (df['Credit limit'] >= 140000)]['y'].value_counts(), labels=labels, autopct='%1.1f%%', startangle=start_angle)\n",
    "axs[1, 0].set_title('Female & Credit limit >= 140000')\n",
    "\n",
    "# Plot for Male and Credit limit >= 140000\n",
    "axs[1, 1].pie(df[(df['Gender'] == 'Male') & (df['Credit limit'] >= 140000)]['y'].value_counts(), labels=labels, autopct='%1.1f%%', startangle=start_angle)\n",
    "axs[1, 1].set_title('Male & Credit limit >= 140000')\n",
    "\n",
    "plt.tight_layout()\n",
    "plt.show()\n"
   ]
  },
  {
   "cell_type": "code",
   "execution_count": 14,
   "metadata": {},
   "outputs": [
    {
     "data": {
      "text/plain": [
       "<Axes: xlabel='y', ylabel='count'>"
      ]
     },
     "execution_count": 14,
     "metadata": {},
     "output_type": "execute_result"
    },
    {
     "data": {
      "image/png": "[encoded data removed]",
      "text/plain": [
       "<Figure size 640x480 with 1 Axes>"
      ]
     },
     "metadata": {},
     "output_type": "display_data"
    }
   ],
   "source": [
    "#count for default and non-default for each gender\n",
    "import seaborn as sns\n",
    "sns.set_style('darkgrid')\n",
    "sns.countplot(x='y', hue='Gender', data=df)"
   ]
  },
  {
   "cell_type": "code",
   "execution_count": 15,
   "metadata": {},
   "outputs": [
    {
     "data": {
      "text/plain": [
       "<Axes: xlabel='y', ylabel='count'>"
      ]
     },
     "execution_count": 15,
     "metadata": {},
     "output_type": "execute_result"
    },
    {
     "data": {
      "image/png": "[encoded data removed]",
      "text/plain": [
       "<Figure size 640x480 with 1 Axes>"
      ]
     },
     "metadata": {},
     "output_type": "display_data"
    }
   ],
   "source": [
    "import seaborn as sns\n",
    "sns.set_style('darkgrid')\n",
    "sns.countplot(x='y', data=df)"
   ]
  },
  {
   "cell_type": "code",
   "execution_count": 17,
   "metadata": {},
   "outputs": [
    {
     "data": {
      "text/plain": [
       "<Axes: xlabel='Gender', ylabel='count'>"
      ]
     },
     "execution_count": 17,
     "metadata": {},
     "output_type": "execute_result"
    },
    {
     "data": {
      "image/png": "[encoded data removed]",
      "text/plain": [
       "<Figure size 640x480 with 1 Axes>"
      ]
     },
     "metadata": {},
     "output_type": "display_data"
    }
   ],
   "source": [
    "import seaborn as sns\n",
    "sns.set_style('darkgrid')\n",
    "sns.countplot(x='Gender', data=df)"
   ]
  },
  {
   "cell_type": "markdown",
   "metadata": {},
   "source": [
    "# Modelling"
   ]
  },
  {
   "cell_type": "code",
   "execution_count": 17,
   "metadata": {},
   "outputs": [],
   "source": [
    "#splitting into train test with 20% test data\n",
    "from sklearn.model_selection import train_test_split\n",
    "X_train,X_test,y_train,y_test = train_test_split(X,y,test_size=0.2,random_state=0)"
   ]
  },
  {
   "cell_type": "code",
   "execution_count": 18,
   "metadata": {},
   "outputs": [],
   "source": [
    "#function to find statiscal parity and equal opportunity\n",
    "\n",
    "def stat_parity(preds, sens):\n",
    "\n",
    "    #counter variable to count when sens is 1\n",
    "    count_sensitive=0\n",
    "    #counter variable to count when sens is 0\n",
    "    count_not_sensitive=0\n",
    "    #counter variable to count when sens is 1 and preds is also 1\n",
    "    pred_1_sensitive=0\n",
    "    #counter variable to count when sens is 0 and preds is 1\n",
    "    pred_1_non_sensitive=0\n",
    "    \n",
    "    \n",
    "    for i in range(len(preds)): #iterate through preds and sens\n",
    "        if sens[i]==1:\n",
    "            count_sensitive+=1 # if sens is 1 i.e it is a sensitive class increase counter\n",
    "            if preds[i]==1:\n",
    "                 pred_1_sensitive+=1 # if pred is 1 when sens is 1 increase counter\n",
    "        elif sens[i]==0:\n",
    "            count_not_sensitive+=1 # if sens is 0 i.e it is not a sensitive class increase counter\n",
    "            if preds[i]==1:\n",
    "                pred_1_non_sensitive+=1 # if pred is 1 when sens is 0 increase counter\n",
    "    \n",
    "    #stat_parity is always between 0 and 1. so I have checked if the denominator is 0. if it is 0 then stats parity for that factor should be lowest i.e 0\n",
    "    if (count_sensitive==0):\n",
    "        sens_ans=0 # if there is no sensitive class in data set sensitive class output to 0\n",
    "    else:\n",
    "        sens_ans=(pred_1_sensitive/count_sensitive) # else output for sensitive class P(ypred=1/A=1)\n",
    "        \n",
    "    if(count_not_sensitive)==0:\n",
    "        not_sens_ans=0 # if there is no non sensitive class in data set non sensitive class output to 0\n",
    "    else:\n",
    "        not_sens_ans=(pred_1_non_sensitive/count_not_sensitive)# else output for non sensitive class P(ypred=1/A=0)\n",
    "    \n",
    "    return sens_ans-not_sens_ans # return difference\n",
    "\n",
    "\n",
    "def eq_oppo(preds, sens, labels):\n",
    "\n",
    "    #counter variable to count when sens is 1 and ytrue is 1\n",
    "    count_sensitive=0\n",
    "    #counter variable to count when sens is 0 and ytrue is 1\n",
    "    count_not_sensitive=0\n",
    "    #counter variable to count when sens is 1 and preds is also 1 and ytrue is also 1\n",
    "    pred_1_sensitive=0\n",
    "    #counter variable to count when sens is 0 and preds is also 1 and ytrue is also 1\n",
    "    pred_1_non_sensitive=0\n",
    "    \n",
    "    for i in range(len(preds)): #iterate through preds and sens and labels\n",
    "        if sens[i]==1 and labels[i]==1: \n",
    "            count_sensitive+=1 # if both sens=1 and ytrue=1 increase sensitive class counter\n",
    "            if preds[i]==1:\n",
    "                 pred_1_sensitive+=1 # if all three are 1 increase counter\n",
    "        elif sens[i]==0 and labels[i]==1:\n",
    "            count_not_sensitive+=1 # if class is not sensitive but ytrue=1 increase counter\n",
    "            if preds[i]==1:\n",
    "                pred_1_non_sensitive+=1 #if pred is 1, class!=sensitive and ytrue=1 increase counter\n",
    "\n",
    "    #equal opportunity between 0 and 1. so I have checked if the denominator is 0. if it is 0 then equal opportunity for that factor should be lowest i.e 0\n",
    "    if (count_sensitive==0):\n",
    "        sens_ans=0 # if there is no sensitive class for which ytrue=1 in data set sensitive class output to 0\n",
    "    else:\n",
    "        sens_ans=(pred_1_sensitive/count_sensitive)# else output for sensitive class P(ypred=1/A=1, label=1)\n",
    "        \n",
    "    if(count_not_sensitive)==0:\n",
    "        not_sens_ans=0 # if there is no non sensitive class for which ytrue=1 in data set non sensitive class output to 0\n",
    "    else:\n",
    "        not_sens_ans=(pred_1_non_sensitive/count_not_sensitive)# else output for non sensitive class P(ypred=1/A=0, label=1)\n",
    "    return sens_ans-not_sens_ans #return difference"
   ]
  },
  {
   "cell_type": "code",
   "execution_count": null,
   "metadata": {},
   "outputs": [],
   "source": []
  },
  {
   "cell_type": "markdown",
   "metadata": {},
   "source": [
    "## 1. LightGBM"
   ]
  },
  {
   "cell_type": "code",
   "execution_count": 20,
   "metadata": {},
   "outputs": [],
   "source": [
    "# building lightgbm model with binary classification\n",
    "import lightgbm as lgb\n",
    "\n",
    "params = {\n",
    "    'objective': 'binary',\n",
    "}"
   ]
  },
  {
   "cell_type": "code",
   "execution_count": 21,
   "metadata": {},
   "outputs": [
    {
     "name": "stdout",
     "output_type": "stream",
     "text": [
      "[LightGBM] [Warning] Found whitespace in feature_names, replace with underlines\n",
      "[LightGBM] [Info] Number of positive: 5339, number of negative: 18661\n",
      "[LightGBM] [Info] Auto-choosing row-wise multi-threading, the overhead of testing was 0.000611 seconds.\n",
      "You can set `force_row_wise=true` to remove the overhead.\n",
      "And if memory is not enough, you can set `force_col_wise=true`.\n",
      "[LightGBM] [Info] Total Bins 3210\n",
      "[LightGBM] [Info] Number of data points in the train set: 24000, number of used features: 23\n",
      "[LightGBM] [Warning] Found whitespace in feature_names, replace with underlines\n",
      "[LightGBM] [Info] [binary:BoostFromScore]: pavg=0.222458 -> initscore=-1.251397\n",
      "[LightGBM] [Info] Start training from score -1.251397\n"
     ]
    }
   ],
   "source": [
    "\n",
    "\n",
    "\n",
    "lgb_train = lgb.Dataset(X_train, y_train)\n",
    "lgb_test = lgb.Dataset(X_test, y_test)\n",
    "\n",
    "model = lgb.train(params,\n",
    "                  lgb_train,\n",
    "                  valid_sets=[lgb_train, lgb_test])"
   ]
  },
  {
   "cell_type": "code",
   "execution_count": 22,
   "metadata": {},
   "outputs": [],
   "source": [
    "#predicting on test with the best iteration model and converting the probabilities to 1 and 0\n",
    "y_pred = list(model.predict(X_test, num_iteration=model.best_iteration))\n",
    "y_pred=[1 if x>=0.5 else 0 for x in y_pred ]"
   ]
  },
  {
   "cell_type": "code",
   "execution_count": 23,
   "metadata": {},
   "outputs": [
    {
     "data": {
      "text/plain": [
       "-0.024521386418232025"
      ]
     },
     "execution_count": 23,
     "metadata": {},
     "output_type": "execute_result"
    }
   ],
   "source": [
    "#statistical parity\n",
    "stat_parity(y_pred, np.array(X_test['Gender']))"
   ]
  },
  {
   "cell_type": "code",
   "execution_count": 24,
   "metadata": {},
   "outputs": [
    {
     "data": {
      "text/plain": [
       "-0.04888755024046293"
      ]
     },
     "execution_count": 24,
     "metadata": {},
     "output_type": "execute_result"
    }
   ],
   "source": [
    "\n",
    "#equal opportunity\n",
    "\n",
    "eq_oppo(y_pred, np.array(X_test['Gender']), np.array(y_test))"
   ]
  },
  {
   "cell_type": "code",
   "execution_count": 66,
   "metadata": {},
   "outputs": [
    {
     "name": "stdout",
     "output_type": "stream",
     "text": [
      "[[4480  223]\n",
      " [ 815  482]]\n",
      "False Positive Rate 0.04741654263236232\n",
      "Accuracy 0.827\n"
     ]
    }
   ],
   "source": [
    "# using the eval function to find the other metrics defined above\n",
    "eval(y_pred,y_test)"
   ]
  },
  {
   "cell_type": "code",
   "execution_count": 36,
   "metadata": {},
   "outputs": [
    {
     "name": "stdout",
     "output_type": "stream",
     "text": [
      "Requirement already satisfied: imbalanced-learn in /Users/vansh16/anaconda3/lib/python3.11/site-packages (0.12.0)\n",
      "Requirement already satisfied: numpy>=1.17.3 in /Users/vansh16/anaconda3/lib/python3.11/site-packages (from imbalanced-learn) (1.24.3)\n",
      "Requirement already satisfied: scipy>=1.5.0 in /Users/vansh16/anaconda3/lib/python3.11/site-packages (from imbalanced-learn) (1.10.1)\n",
      "Requirement already satisfied: scikit-learn>=1.0.2 in /Users/vansh16/anaconda3/lib/python3.11/site-packages (from imbalanced-learn) (1.2.2)\n",
      "Requirement already satisfied: joblib>=1.1.1 in /Users/vansh16/anaconda3/lib/python3.11/site-packages (from imbalanced-learn) (1.2.0)\n",
      "Requirement already satisfied: threadpoolctl>=2.0.0 in /Users/vansh16/anaconda3/lib/python3.11/site-packages (from imbalanced-learn) (2.2.0)\n"
     ]
    }
   ],
   "source": [
    "!pip3 install -U imbalanced-learn"
   ]
  },
  {
   "cell_type": "markdown",
   "metadata": {},
   "source": [
    "## 2. SMOTE+LightGBM"
   ]
  },
  {
   "cell_type": "code",
   "execution_count": 38,
   "metadata": {},
   "outputs": [],
   "source": [
    "from imblearn.over_sampling import SMOTE"
   ]
  },
  {
   "cell_type": "code",
   "execution_count": 39,
   "metadata": {},
   "outputs": [],
   "source": [
    "#using smote to balance the data by oversampling\n",
    "smote = SMOTE(random_state=0)\n",
    "\n",
    "\n",
    "X_train_smote, y_train_smote = smote.fit_resample(X_train, y_train)"
   ]
  },
  {
   "cell_type": "code",
   "execution_count": 40,
   "metadata": {},
   "outputs": [
    {
     "data": {
      "text/plain": [
       "Y\n",
       "0    18661\n",
       "1    18661\n",
       "Name: count, dtype: int64"
      ]
     },
     "execution_count": 40,
     "metadata": {},
     "output_type": "execute_result"
    }
   ],
   "source": [
    "y_train_smote.value_counts()"
   ]
  },
  {
   "cell_type": "code",
   "execution_count": 41,
   "metadata": {},
   "outputs": [
    {
     "name": "stdout",
     "output_type": "stream",
     "text": [
      "[LightGBM] [Warning] Found whitespace in feature_names, replace with underlines\n",
      "[LightGBM] [Info] Number of positive: 18661, number of negative: 18661\n",
      "[LightGBM] [Info] Auto-choosing row-wise multi-threading, the overhead of testing was 0.001119 seconds.\n",
      "You can set `force_row_wise=true` to remove the overhead.\n",
      "And if memory is not enough, you can set `force_col_wise=true`.\n",
      "[LightGBM] [Info] Total Bins 3395\n",
      "[LightGBM] [Info] Number of data points in the train set: 37322, number of used features: 23\n",
      "[LightGBM] [Warning] Found whitespace in feature_names, replace with underlines\n",
      "[LightGBM] [Info] [binary:BoostFromScore]: pavg=0.500000 -> initscore=0.000000\n"
     ]
    }
   ],
   "source": [
    "# building train and test dataset for lightgbm and training the model on the train dataset\n",
    "lgb_train = lgb.Dataset(X_train_smote, y_train_smote)\n",
    "lgb_test = lgb.Dataset(X_test, y_test)\n",
    "\n",
    "model_sm= lgb.train(params,\n",
    "                  lgb_train,\n",
    "                  valid_sets=[lgb_train, lgb_test])"
   ]
  },
  {
   "cell_type": "code",
   "execution_count": 42,
   "metadata": {},
   "outputs": [],
   "source": [
    "#predicting on test with the best iteration model and converting the probabilities to 1 and 0\n",
    "y_pred_sm = list(model_sm.predict(X_test, num_iteration=model_sm.best_iteration))\n",
    "y_pred_sm=[1 if x>=0.5 else 0 for x in y_pred_sm ]"
   ]
  },
  {
   "cell_type": "code",
   "execution_count": 43,
   "metadata": {},
   "outputs": [
    {
     "data": {
      "text/plain": [
       "-0.129989367268063"
      ]
     },
     "execution_count": 43,
     "metadata": {},
     "output_type": "execute_result"
    }
   ],
   "source": [
    "#statistical parity\n",
    "stat_parity(y_pred_sm, np.array(X_test['Gender']))"
   ]
  },
  {
   "cell_type": "code",
   "execution_count": 44,
   "metadata": {},
   "outputs": [
    {
     "data": {
      "text/plain": [
       "-0.13458272024332685"
      ]
     },
     "execution_count": 44,
     "metadata": {},
     "output_type": "execute_result"
    }
   ],
   "source": [
    "#equal opportunity\n",
    "eq_oppo(y_pred_sm, np.array(X_test['Gender']), np.array(y_test))"
   ]
  },
  {
   "cell_type": "code",
   "execution_count": 67,
   "metadata": {},
   "outputs": [
    {
     "name": "stdout",
     "output_type": "stream",
     "text": [
      "[[4012  691]\n",
      " [ 656  641]]\n",
      "False Positive Rate 0.14692749308951733\n",
      "Accuracy 0.7755\n"
     ]
    }
   ],
   "source": [
    "# using the eval function to find the other metrics defined above\n",
    "eval(y_pred_sm,y_test)"
   ]
  },
  {
   "cell_type": "code",
   "execution_count": null,
   "metadata": {},
   "outputs": [],
   "source": []
  },
  {
   "cell_type": "code",
   "execution_count": null,
   "metadata": {},
   "outputs": [],
   "source": []
  },
  {
   "cell_type": "markdown",
   "metadata": {},
   "source": [
    "## 3. BorderlineSMOTE + LightGBM"
   ]
  },
  {
   "cell_type": "code",
   "execution_count": 46,
   "metadata": {},
   "outputs": [],
   "source": [
    "#another oversampling technique; borderline smote balances the data\n",
    "from imblearn.over_sampling import BorderlineSMOTE\n",
    "bs = BorderlineSMOTE(random_state=0)\n",
    "\n",
    "X_train_bs, y_train_bs = bs.fit_resample(X_train, y_train)"
   ]
  },
  {
   "cell_type": "code",
   "execution_count": 47,
   "metadata": {},
   "outputs": [
    {
     "data": {
      "text/plain": [
       "Y\n",
       "0    18661\n",
       "1    18661\n",
       "Name: count, dtype: int64"
      ]
     },
     "execution_count": 47,
     "metadata": {},
     "output_type": "execute_result"
    }
   ],
   "source": [
    "y_train_bs.value_counts()"
   ]
  },
  {
   "cell_type": "code",
   "execution_count": 48,
   "metadata": {},
   "outputs": [
    {
     "name": "stdout",
     "output_type": "stream",
     "text": [
      "[LightGBM] [Warning] Found whitespace in feature_names, replace with underlines\n",
      "[LightGBM] [Info] Number of positive: 18661, number of negative: 18661\n",
      "[LightGBM] [Info] Auto-choosing row-wise multi-threading, the overhead of testing was 0.000930 seconds.\n",
      "You can set `force_row_wise=true` to remove the overhead.\n",
      "And if memory is not enough, you can set `force_col_wise=true`.\n",
      "[LightGBM] [Info] Total Bins 3394\n",
      "[LightGBM] [Info] Number of data points in the train set: 37322, number of used features: 23\n",
      "[LightGBM] [Warning] Found whitespace in feature_names, replace with underlines\n",
      "[LightGBM] [Info] [binary:BoostFromScore]: pavg=0.500000 -> initscore=0.000000\n"
     ]
    }
   ],
   "source": [
    "# building train and test dataset for lightgbm and training the model on the train dataset\n",
    "\n",
    "lgb_train = lgb.Dataset(X_train_bs, y_train_bs)\n",
    "lgb_test = lgb.Dataset(X_test, y_test)\n",
    "\n",
    "model_bs= lgb.train(params,\n",
    "                  lgb_train,\n",
    "                  valid_sets=[lgb_train, lgb_test])"
   ]
  },
  {
   "cell_type": "code",
   "execution_count": 49,
   "metadata": {},
   "outputs": [],
   "source": [
    "#predicting on test with the best iteration model and converting the probabilities to 1 and 0\n",
    "y_pred_bs = list(model_bs.predict(X_test, num_iteration=model_bs.best_iteration))\n",
    "y_pred_bs=[1 if x>=0.5 else 0 for x in y_pred_bs ]"
   ]
  },
  {
   "cell_type": "code",
   "execution_count": 50,
   "metadata": {},
   "outputs": [
    {
     "data": {
      "text/plain": [
       "-0.13815659932603105"
      ]
     },
     "execution_count": 50,
     "metadata": {},
     "output_type": "execute_result"
    }
   ],
   "source": [
    "#statistical parity\n",
    "stat_parity(y_pred_bs, np.array(X_test['Gender']))"
   ]
  },
  {
   "cell_type": "code",
   "execution_count": 51,
   "metadata": {},
   "outputs": [
    {
     "data": {
      "text/plain": [
       "-0.15201504991951653"
      ]
     },
     "execution_count": 51,
     "metadata": {},
     "output_type": "execute_result"
    }
   ],
   "source": [
    "#equal opportunity\n",
    "eq_oppo(y_pred_bs, np.array(X_test['Gender']), np.array(y_test))"
   ]
  },
  {
   "cell_type": "code",
   "execution_count": 68,
   "metadata": {},
   "outputs": [
    {
     "name": "stdout",
     "output_type": "stream",
     "text": [
      "[[4000  703]\n",
      " [ 667  630]]\n",
      "False Positive Rate 0.14947905592175206\n",
      "Accuracy 0.7716666666666666\n"
     ]
    }
   ],
   "source": [
    "# using the eval function to find the other metrics defined above\n",
    "eval(y_pred_bs,y_test)"
   ]
  },
  {
   "cell_type": "code",
   "execution_count": null,
   "metadata": {},
   "outputs": [],
   "source": []
  },
  {
   "cell_type": "markdown",
   "metadata": {},
   "source": [
    "## 4. Reweighing + LightGBM"
   ]
  },
  {
   "cell_type": "code",
   "execution_count": null,
   "metadata": {},
   "outputs": [],
   "source": [
    "!pip install 'aif360[AdversarialDebiasing]'"
   ]
  },
  {
   "cell_type": "code",
   "execution_count": 53,
   "metadata": {},
   "outputs": [
    {
     "name": "stderr",
     "output_type": "stream",
     "text": [
      "WARNING:root:No module named 'fairlearn': ExponentiatedGradientReduction will be unavailable. To install, run:\n",
      "pip install 'aif360[Reductions]'\n",
      "WARNING:root:No module named 'fairlearn': GridSearchReduction will be unavailable. To install, run:\n",
      "pip install 'aif360[Reductions]'\n",
      "WARNING:root:No module named 'inFairness': SenSeI and SenSR will be unavailable. To install, run:\n",
      "pip install 'aif360[inFairness]'\n",
      "WARNING:root:No module named 'fairlearn': GridSearchReduction will be unavailable. To install, run:\n",
      "pip install 'aif360[Reductions]'\n"
     ]
    }
   ],
   "source": [
    "from aif360.datasets import StandardDataset\n",
    "from aif360.algorithms.preprocessing import Reweighing\n",
    "from aif360.datasets import BinaryLabelDataset"
   ]
  },
  {
   "cell_type": "code",
   "execution_count": 54,
   "metadata": {},
   "outputs": [],
   "source": [
    "#Creating a copy of the original dataset with y values appended to it, to calculate the weights\n",
    "\n",
    "X_train_y=X_train.copy()\n",
    "X_test_y=X_test.copy()\n",
    "X_train_y['y']=y_train\n",
    "X_test_y['y']=y_test"
   ]
  },
  {
   "cell_type": "code",
   "execution_count": 55,
   "metadata": {},
   "outputs": [],
   "source": [
    "#setting the protected variable as gender and building a binary dataset from the above copy dataset\n",
    "attributes_params = dict(\n",
    "    protected_attribute_names=['Gender'],\n",
    "    label_names=['y']\n",
    ")\n",
    "X_train_binary = BinaryLabelDataset(df=X_train_y, **attributes_params)\n",
    "X_test_binary = BinaryLabelDataset(df=X_test_y, **attributes_params)\n"
   ]
  },
  {
   "cell_type": "code",
   "execution_count": 56,
   "metadata": {},
   "outputs": [],
   "source": [
    "#calculating the weights by mentioning priviledged and non-priviledged groups\n",
    "RW = Reweighing(unprivileged_groups=[{'Gender':1}],\n",
    "               privileged_groups=[{'Gender':0}])\n"
   ]
  },
  {
   "cell_type": "code",
   "execution_count": 57,
   "metadata": {},
   "outputs": [],
   "source": [
    "\n",
    "\n",
    "X_train_RW=RW.fit_transform(X_train_binary)\n",
    "y_test=X_test_y['y']\n",
    "X_test_y.drop('y',axis=1,inplace=True)\n",
    "y_train=X_train_y['y']\n",
    "X_train_y.drop('y',axis=1,inplace=True)\n"
   ]
  },
  {
   "cell_type": "code",
   "execution_count": 58,
   "metadata": {},
   "outputs": [
    {
     "name": "stdout",
     "output_type": "stream",
     "text": [
      "[LightGBM] [Warning] Found whitespace in feature_names, replace with underlines\n",
      "[LightGBM] [Info] Number of positive: 5339, number of negative: 18661\n",
      "[LightGBM] [Info] Auto-choosing row-wise multi-threading, the overhead of testing was 0.000913 seconds.\n",
      "You can set `force_row_wise=true` to remove the overhead.\n",
      "And if memory is not enough, you can set `force_col_wise=true`.\n",
      "[LightGBM] [Info] Total Bins 3210\n",
      "[LightGBM] [Info] Number of data points in the train set: 24000, number of used features: 23\n",
      "[LightGBM] [Warning] Found whitespace in feature_names, replace with underlines\n",
      "[LightGBM] [Info] [binary:BoostFromScore]: pavg=0.222458 -> initscore=-1.251397\n",
      "[LightGBM] [Info] Start training from score -1.251397\n"
     ]
    }
   ],
   "source": [
    "#assigning weights to the lgb dataset and building the model\n",
    "weights = X_train_RW.instance_weights\n",
    "\n",
    "lgb_train = lgb.Dataset(X_train_y, y_train,weight=weights)\n",
    "lgb_test = lgb.Dataset(X_test_y, y_test)\n",
    "\n",
    "model_aif= lgb.train(params,\n",
    "                  lgb_train,\n",
    "                  valid_sets=[lgb_train, lgb_test])"
   ]
  },
  {
   "cell_type": "code",
   "execution_count": 59,
   "metadata": {},
   "outputs": [],
   "source": [
    "#predicting on test with the best iteration model and converting the probabilities to 1 and 0\n",
    "y_pred_aif = list(model_aif.predict(X_test, num_iteration=model_aif.best_iteration))\n",
    "y_pred_aif=[1 if x>=0.5 else 0 for x in y_pred_aif ]"
   ]
  },
  {
   "cell_type": "code",
   "execution_count": 60,
   "metadata": {},
   "outputs": [
    {
     "data": {
      "text/plain": [
       "-0.014528587421871936"
      ]
     },
     "execution_count": 60,
     "metadata": {},
     "output_type": "execute_result"
    }
   ],
   "source": [
    "#statistical parity\n",
    "stat_parity(y_pred_aif, np.array(X_test['Gender']))"
   ]
  },
  {
   "cell_type": "code",
   "execution_count": 61,
   "metadata": {},
   "outputs": [
    {
     "data": {
      "text/plain": [
       "-0.03362037466794382"
      ]
     },
     "execution_count": 61,
     "metadata": {},
     "output_type": "execute_result"
    }
   ],
   "source": [
    "#equal opportunity\n",
    "eq_oppo(y_pred_aif, np.array(X_test['Gender']), np.array(y_test))"
   ]
  },
  {
   "cell_type": "code",
   "execution_count": 69,
   "metadata": {},
   "outputs": [
    {
     "name": "stdout",
     "output_type": "stream",
     "text": [
      "[[4487  216]\n",
      " [ 823  474]]\n",
      "False Positive Rate 0.04592813098022539\n",
      "Accuracy 0.8268333333333333\n"
     ]
    }
   ],
   "source": [
    "# using the eval function to find the other metrics defined above\n",
    "eval(y_pred_aif,y_test)"
   ]
  },
  {
   "cell_type": "code",
   "execution_count": null,
   "metadata": {},
   "outputs": [],
   "source": []
  },
  {
   "cell_type": "code",
   "execution_count": null,
   "metadata": {},
   "outputs": [],
   "source": []
  },
  {
   "cell_type": "markdown",
   "metadata": {},
   "source": [
    "## 5. Penalized Matrix XGBoost"
   ]
  },
  {
   "cell_type": "code",
   "execution_count": 189,
   "metadata": {},
   "outputs": [
    {
     "name": "stdout",
     "output_type": "stream",
     "text": [
      "Requirement already satisfied: xgboost in /Users/vansh16/anaconda3/lib/python3.11/site-packages (1.7.3)\n",
      "Requirement already satisfied: numpy in /Users/vansh16/anaconda3/lib/python3.11/site-packages (from xgboost) (1.24.3)\n",
      "Requirement already satisfied: scipy in /Users/vansh16/anaconda3/lib/python3.11/site-packages (from xgboost) (1.10.1)\n"
     ]
    }
   ],
   "source": [
    "!pip install xgboost"
   ]
  },
  {
   "cell_type": "code",
   "execution_count": 70,
   "metadata": {},
   "outputs": [],
   "source": [
    "#defining the matrix with penalty values\n",
    "#this matrix only for female where 1.35 and 1.35 are the penalties that will be\n",
    "#applied to the model if the model makes incorrect predictions\n",
    "#it will multiply the penalty with the loss of the model\n",
    "\n",
    "penalty_matrix = np.array([[1, 1.35], [1.35, 1]]) \n",
    "penalty_matrix=pd.DataFrame(penalty_matrix)"
   ]
  },
  {
   "cell_type": "code",
   "execution_count": 71,
   "metadata": {},
   "outputs": [],
   "source": [
    "#the below code is the code of the xgboost model with the objective function and predict function\n",
    "#the model with multipy the penalty with the grad and hess loss of the model\n",
    "\n",
    "\n",
    "import numpy as np\n",
    "import xgboost as xgb\n",
    "from matplotlib import pyplot as plt\n",
    "import argparse\n",
    "\n",
    "\n",
    "np.random.seed(1994)\n",
    "\n",
    "kRows = X_train.shape[0]\n",
    "kCols = len(X_train.columns)\n",
    "kClasses = 2 # number of classes\n",
    "kRounds =  100      # number of boosting rounds.\n",
    "\n",
    "\n",
    "m = xgb.DMatrix(np.array(X_train), np.array(y_train))\n",
    "\n",
    "gender_list=np.array(X_train['Gender'])\n",
    "def softmax(x):\n",
    "    '''Softmax function with x as input vector.'''\n",
    "    e = np.exp(x)\n",
    "    return e / np.sum(e)\n",
    "\n",
    "\n",
    "def softprob_obj(predt: np.ndarray, data: xgb.DMatrix):\n",
    "    '''Loss function.  Computing the gradient and approximated hessian (diagonal).\n",
    "    Reimplements the `multi:softprob` inside XGBoost.\n",
    "    '''\n",
    "    labels = data.get_label()\n",
    "    if data.get_weight().size == 0:\n",
    "        weights = np.ones((kRows, 1), dtype=float)\n",
    "    else:\n",
    "        weights = data.get_weight()\n",
    "    assert predt.shape == (kRows, kClasses)\n",
    "    key_list=[0,1]\n",
    "    grad = np.zeros((kRows, kClasses), dtype=float)\n",
    "    hess = np.zeros((kRows, kClasses), dtype=float)\n",
    "\n",
    "    eps = 1e-6\n",
    "    for r in range(predt.shape[0]):\n",
    "        gender=gender_list[r]\n",
    "        target = labels[r]\n",
    "        p = softmax(predt[r, :])\n",
    "        tar=key_list[int(target)]\n",
    "      \n",
    "        max_pred=np.argmax(p)\n",
    "        pred=key_list[max_pred]\n",
    "     \n",
    "        for c in range(predt.shape[1]):\n",
    "            assert target >= 0 or target <= kClasses\n",
    "            g = p[c] - 1.0 if c == target else p[c]\n",
    "\n",
    "            if gender==1:\n",
    "                g = g * (penalty_matrix.loc[tar][pred])\n",
    "            else:\n",
    "                g=g*1\n",
    "              \n",
    "            if gender==1:\n",
    "                  h = max((2.0 * p[c] * (1.0 - p[c]) * penalty_matrix.loc[tar][pred]).item(), eps)\n",
    "            else:\n",
    "               h = max((2.0 * p[c] * (1.0 - p[c]) * 1).item(), eps)\n",
    "            grad[r, c] = g\n",
    "            hess[r, c] = h\n",
    "\n",
    "    grad = grad.reshape((kRows * kClasses, 1))\n",
    "    hess = hess.reshape((kRows * kClasses, 1))\n",
    "    return grad, hess\n",
    "\n",
    "\n",
    "def predict(booster: xgb.Booster, X):\n",
    "\n",
    "    predt = booster.predict(X, output_margin=True)\n",
    "    out = np.zeros(kRows)\n",
    "    for r in range(predt.shape[0]):\n",
    "\n",
    "        i = np.argmax(predt[r])\n",
    "        out[r] = i\n",
    "    return out\n"
   ]
  },
  {
   "cell_type": "code",
   "execution_count": 72,
   "metadata": {},
   "outputs": [
    {
     "name": "stdout",
     "output_type": "stream",
     "text": [
      "[0]\ttrain-mlogloss:0.61284\n",
      "[1]\ttrain-mlogloss:0.55885\n",
      "[2]\ttrain-mlogloss:0.52075\n",
      "[3]\ttrain-mlogloss:0.49333\n",
      "[4]\ttrain-mlogloss:0.47326\n",
      "[5]\ttrain-mlogloss:0.45783\n",
      "[6]\ttrain-mlogloss:0.44590\n",
      "[7]\ttrain-mlogloss:0.43676\n",
      "[8]\ttrain-mlogloss:0.42910\n",
      "[9]\ttrain-mlogloss:0.42289\n",
      "[10]\ttrain-mlogloss:0.41747\n",
      "[11]\ttrain-mlogloss:0.41338\n",
      "[12]\ttrain-mlogloss:0.41010\n",
      "[13]\ttrain-mlogloss:0.40703\n",
      "[14]\ttrain-mlogloss:0.40416\n",
      "[15]\ttrain-mlogloss:0.40177\n",
      "[16]\ttrain-mlogloss:0.39949\n",
      "[17]\ttrain-mlogloss:0.39756\n",
      "[18]\ttrain-mlogloss:0.39553\n",
      "[19]\ttrain-mlogloss:0.39422\n",
      "[20]\ttrain-mlogloss:0.39345\n",
      "[21]\ttrain-mlogloss:0.39094\n",
      "[22]\ttrain-mlogloss:0.38912\n",
      "[23]\ttrain-mlogloss:0.38821\n",
      "[24]\ttrain-mlogloss:0.38677\n",
      "[25]\ttrain-mlogloss:0.38623\n",
      "[26]\ttrain-mlogloss:0.38507\n",
      "[27]\ttrain-mlogloss:0.38453\n",
      "[28]\ttrain-mlogloss:0.38407\n",
      "[29]\ttrain-mlogloss:0.38168\n",
      "[30]\ttrain-mlogloss:0.38061\n",
      "[31]\ttrain-mlogloss:0.37890\n",
      "[32]\ttrain-mlogloss:0.37850\n",
      "[33]\ttrain-mlogloss:0.37695\n",
      "[34]\ttrain-mlogloss:0.37574\n",
      "[35]\ttrain-mlogloss:0.37490\n",
      "[36]\ttrain-mlogloss:0.37409\n",
      "[37]\ttrain-mlogloss:0.37327\n",
      "[38]\ttrain-mlogloss:0.37173\n",
      "[39]\ttrain-mlogloss:0.37161\n",
      "[40]\ttrain-mlogloss:0.37057\n",
      "[41]\ttrain-mlogloss:0.37012\n",
      "[42]\ttrain-mlogloss:0.36824\n",
      "[43]\ttrain-mlogloss:0.36700\n",
      "[44]\ttrain-mlogloss:0.36687\n",
      "[45]\ttrain-mlogloss:0.36556\n",
      "[46]\ttrain-mlogloss:0.36453\n",
      "[47]\ttrain-mlogloss:0.36260\n",
      "[48]\ttrain-mlogloss:0.36172\n",
      "[49]\ttrain-mlogloss:0.36103\n",
      "[50]\ttrain-mlogloss:0.35968\n",
      "[51]\ttrain-mlogloss:0.35822\n",
      "[52]\ttrain-mlogloss:0.35764\n",
      "[53]\ttrain-mlogloss:0.35559\n",
      "[54]\ttrain-mlogloss:0.35420\n",
      "[55]\ttrain-mlogloss:0.35377\n",
      "[56]\ttrain-mlogloss:0.35365\n",
      "[57]\ttrain-mlogloss:0.35270\n",
      "[58]\ttrain-mlogloss:0.35244\n",
      "[59]\ttrain-mlogloss:0.35110\n",
      "[60]\ttrain-mlogloss:0.35018\n",
      "[61]\ttrain-mlogloss:0.34881\n",
      "[62]\ttrain-mlogloss:0.34802\n",
      "[63]\ttrain-mlogloss:0.34729\n",
      "[64]\ttrain-mlogloss:0.34579\n",
      "[65]\ttrain-mlogloss:0.34503\n",
      "[66]\ttrain-mlogloss:0.34358\n",
      "[67]\ttrain-mlogloss:0.34345\n",
      "[68]\ttrain-mlogloss:0.34307\n",
      "[69]\ttrain-mlogloss:0.34202\n",
      "[70]\ttrain-mlogloss:0.34061\n",
      "[71]\ttrain-mlogloss:0.33994\n",
      "[72]\ttrain-mlogloss:0.33902\n",
      "[73]\ttrain-mlogloss:0.33788\n",
      "[74]\ttrain-mlogloss:0.33635\n",
      "[75]\ttrain-mlogloss:0.33554\n",
      "[76]\ttrain-mlogloss:0.33439\n",
      "[77]\ttrain-mlogloss:0.33396\n",
      "[78]\ttrain-mlogloss:0.33252\n",
      "[79]\ttrain-mlogloss:0.33175\n",
      "[80]\ttrain-mlogloss:0.33087\n",
      "[81]\ttrain-mlogloss:0.33033\n",
      "[82]\ttrain-mlogloss:0.32957\n",
      "[83]\ttrain-mlogloss:0.32925\n",
      "[84]\ttrain-mlogloss:0.32889\n",
      "[85]\ttrain-mlogloss:0.32769\n",
      "[86]\ttrain-mlogloss:0.32668\n",
      "[87]\ttrain-mlogloss:0.32610\n",
      "[88]\ttrain-mlogloss:0.32464\n",
      "[89]\ttrain-mlogloss:0.32398\n",
      "[90]\ttrain-mlogloss:0.32333\n",
      "[91]\ttrain-mlogloss:0.32215\n",
      "[92]\ttrain-mlogloss:0.32153\n",
      "[93]\ttrain-mlogloss:0.32032\n",
      "[94]\ttrain-mlogloss:0.31976\n",
      "[95]\ttrain-mlogloss:0.31942\n",
      "[96]\ttrain-mlogloss:0.31853\n",
      "[97]\ttrain-mlogloss:0.31753\n",
      "[98]\ttrain-mlogloss:0.31589\n",
      "[99]\ttrain-mlogloss:0.31562\n"
     ]
    }
   ],
   "source": [
    "#model building\n",
    "#100 rounds\n",
    "#learning rate of 0.2\n",
    "\n",
    "booster_custom_1= xgb.train({'num_class': kClasses,'eval_metric': 'mlogloss','eta':0.2},\n",
    "                               m,\n",
    "                               num_boost_round=kRounds,\n",
    "                               \n",
    "                               obj=softprob_obj,\n",
    "                               evals=[(m, 'train')])"
   ]
  },
  {
   "cell_type": "code",
   "execution_count": 73,
   "metadata": {},
   "outputs": [
    {
     "name": "stdout",
     "output_type": "stream",
     "text": [
      "0.8206666666666667\n",
      "-0.01033315893402642\n",
      "-0.01508695179878139\n"
     ]
    }
   ],
   "source": [
    "#predicting the values for test\n",
    "#printing statiscal parity, equal opportunity and other metrics\n",
    "predtr_custom=booster_custom_1.predict( xgb.DMatrix(X_train))\n",
    "predt=booster_custom_1.predict( xgb.DMatrix(X_test))\n",
    "\n",
    "\n",
    "from sklearn.metrics import accuracy_score\n",
    "print(accuracy_score(y_test,predt))\n",
    "\n",
    "\n",
    "print(stat_parity(predt, np.array(X_test['Gender'])))\n",
    "print(eq_oppo(predt, np.array(X_test['Gender']), np.array(y_test)))"
   ]
  },
  {
   "cell_type": "code",
   "execution_count": 74,
   "metadata": {},
   "outputs": [
    {
     "name": "stdout",
     "output_type": "stream",
     "text": [
      "[[4453  250]\n",
      " [ 826  471]]\n",
      "False Positive Rate 0.0531575590048905\n",
      "Accuracy 0.8206666666666667\n"
     ]
    }
   ],
   "source": [
    "eval(predt,y_test)"
   ]
  },
  {
   "cell_type": "code",
   "execution_count": null,
   "metadata": {},
   "outputs": [],
   "source": []
  },
  {
   "cell_type": "markdown",
   "metadata": {},
   "source": [
    "## 6. SMOTE + Penalized Matrix XGBoost\n"
   ]
  },
  {
   "cell_type": "code",
   "execution_count": 75,
   "metadata": {},
   "outputs": [],
   "source": [
    "#the below code is the code of the xgboost model with the objective function and predict function\n",
    "#the model with multipy the penalty with the grad and hess loss of the model\n",
    "\n",
    "\n",
    "import numpy as np\n",
    "import xgboost as xgb\n",
    "from matplotlib import pyplot as plt\n",
    "import argparse\n",
    "\n",
    "np.random.seed(1994)\n",
    "\n",
    "kRows = X_train_bs.shape[0]\n",
    "kCols = len(X_train_bs.columns)\n",
    "kClasses = 2 # number of classes\n",
    "kRounds =  100     # number of boosting rounds.\n",
    "\n",
    "\n",
    "m = xgb.DMatrix(np.array(X_train_bs), np.array(y_train_bs))\n",
    "\n",
    "gender_list=np.array(X_train_bs['Gender'])\n",
    "def softmax(x):\n",
    "    '''Softmax function with x as input vector.'''\n",
    "    e = np.exp(x)\n",
    "    return e / np.sum(e)\n",
    "\n",
    "\n",
    "def softprob_obj(predt: np.ndarray, data: xgb.DMatrix):\n",
    "    '''Loss function.  Computing the gradient and approximated hessian (diagonal).\n",
    "    Reimplements the `multi:softprob` inside XGBoost.\n",
    "    '''\n",
    "    labels = data.get_label()\n",
    "    if data.get_weight().size == 0:\n",
    "      \n",
    "        weights = np.ones((kRows, 1), dtype=float)\n",
    "    else:\n",
    "        weights = data.get_weight()\n",
    "\n",
    "    assert predt.shape == (kRows, kClasses)\n",
    "    key_list=[0,1]\n",
    "    grad = np.zeros((kRows, kClasses), dtype=float)\n",
    "    hess = np.zeros((kRows, kClasses), dtype=float)\n",
    "\n",
    "    eps = 1e-6\n",
    "\n",
    "    for r in range(predt.shape[0]):\n",
    "        gender=gender_list[r]\n",
    "        target = labels[r]\n",
    "        p = softmax(predt[r, :])\n",
    "        tar=key_list[int(target)]\n",
    "      \n",
    "        max_pred=np.argmax(p)\n",
    "        pred=key_list[max_pred]\n",
    "     \n",
    "        for c in range(predt.shape[1]):\n",
    "            assert target >= 0 or target <= kClasses\n",
    "            g = p[c] - 1.0 if c == target else p[c]\n",
    "\n",
    "            if gender==1:\n",
    "                g = g * (penalty_matrix.loc[tar][pred])\n",
    "            else:\n",
    "                g=g*1\n",
    "              \n",
    "            if gender==1:\n",
    "                  h = max((2.0 * p[c] * (1.0 - p[c]) * penalty_matrix.loc[tar][pred]).item(), eps)\n",
    "            else:\n",
    "               h = max((2.0 * p[c] * (1.0 - p[c]) * 1).item(), eps)\n",
    "            grad[r, c] = g\n",
    "            hess[r, c] = h\n",
    "\n",
    "    grad = grad.reshape((kRows * kClasses, 1))\n",
    "    hess = hess.reshape((kRows * kClasses, 1))\n",
    "    return grad, hess\n",
    "\n",
    "\n",
    "def predict(booster: xgb.Booster, X):\n",
    "    '''A customized prediction function that converts raw prediction to\n",
    "    target class.\n",
    "    '''\n",
    "\n",
    "    predt = booster.predict(X, output_margin=True)\n",
    "    out = np.zeros(kRows)\n",
    "    for r in range(predt.shape[0]):\n",
    "\n",
    "        i = np.argmax(predt[r])\n",
    "        out[r] = i\n",
    "    return out\n"
   ]
  },
  {
   "cell_type": "code",
   "execution_count": 76,
   "metadata": {},
   "outputs": [
    {
     "name": "stdout",
     "output_type": "stream",
     "text": [
      "[0]\ttrain-mlogloss:0.63583\n",
      "[1]\ttrain-mlogloss:0.59620\n",
      "[2]\ttrain-mlogloss:0.56717\n",
      "[3]\ttrain-mlogloss:0.54477\n",
      "[4]\ttrain-mlogloss:0.52706\n",
      "[5]\ttrain-mlogloss:0.51237\n",
      "[6]\ttrain-mlogloss:0.50029\n",
      "[7]\ttrain-mlogloss:0.48915\n",
      "[8]\ttrain-mlogloss:0.48099\n",
      "[9]\ttrain-mlogloss:0.47282\n",
      "[10]\ttrain-mlogloss:0.46449\n",
      "[11]\ttrain-mlogloss:0.45740\n",
      "[12]\ttrain-mlogloss:0.45200\n",
      "[13]\ttrain-mlogloss:0.44709\n",
      "[14]\ttrain-mlogloss:0.44064\n",
      "[15]\ttrain-mlogloss:0.43591\n",
      "[16]\ttrain-mlogloss:0.43187\n",
      "[17]\ttrain-mlogloss:0.42821\n",
      "[18]\ttrain-mlogloss:0.42523\n",
      "[19]\ttrain-mlogloss:0.42103\n",
      "[20]\ttrain-mlogloss:0.41679\n",
      "[21]\ttrain-mlogloss:0.41462\n",
      "[22]\ttrain-mlogloss:0.41176\n",
      "[23]\ttrain-mlogloss:0.40953\n",
      "[24]\ttrain-mlogloss:0.40752\n",
      "[25]\ttrain-mlogloss:0.40404\n",
      "[26]\ttrain-mlogloss:0.40152\n",
      "[27]\ttrain-mlogloss:0.40003\n",
      "[28]\ttrain-mlogloss:0.39894\n",
      "[29]\ttrain-mlogloss:0.39755\n",
      "[30]\ttrain-mlogloss:0.39681\n",
      "[31]\ttrain-mlogloss:0.39451\n",
      "[32]\ttrain-mlogloss:0.39226\n",
      "[33]\ttrain-mlogloss:0.38945\n",
      "[34]\ttrain-mlogloss:0.38676\n",
      "[35]\ttrain-mlogloss:0.38406\n",
      "[36]\ttrain-mlogloss:0.38273\n",
      "[37]\ttrain-mlogloss:0.38028\n",
      "[38]\ttrain-mlogloss:0.37793\n",
      "[39]\ttrain-mlogloss:0.37648\n",
      "[40]\ttrain-mlogloss:0.37438\n",
      "[41]\ttrain-mlogloss:0.37334\n",
      "[42]\ttrain-mlogloss:0.37146\n",
      "[43]\ttrain-mlogloss:0.36940\n",
      "[44]\ttrain-mlogloss:0.36725\n",
      "[45]\ttrain-mlogloss:0.36640\n",
      "[46]\ttrain-mlogloss:0.36538\n",
      "[47]\ttrain-mlogloss:0.36368\n",
      "[48]\ttrain-mlogloss:0.36240\n",
      "[49]\ttrain-mlogloss:0.36192\n",
      "[50]\ttrain-mlogloss:0.36167\n",
      "[51]\ttrain-mlogloss:0.36102\n",
      "[52]\ttrain-mlogloss:0.35971\n",
      "[53]\ttrain-mlogloss:0.35780\n",
      "[54]\ttrain-mlogloss:0.35580\n",
      "[55]\ttrain-mlogloss:0.35464\n",
      "[56]\ttrain-mlogloss:0.35307\n",
      "[57]\ttrain-mlogloss:0.35159\n",
      "[58]\ttrain-mlogloss:0.35007\n",
      "[59]\ttrain-mlogloss:0.34892\n",
      "[60]\ttrain-mlogloss:0.34850\n",
      "[61]\ttrain-mlogloss:0.34792\n",
      "[62]\ttrain-mlogloss:0.34581\n",
      "[63]\ttrain-mlogloss:0.34396\n",
      "[64]\ttrain-mlogloss:0.34232\n",
      "[65]\ttrain-mlogloss:0.34209\n",
      "[66]\ttrain-mlogloss:0.34113\n",
      "[67]\ttrain-mlogloss:0.34018\n",
      "[68]\ttrain-mlogloss:0.33936\n",
      "[69]\ttrain-mlogloss:0.33848\n",
      "[70]\ttrain-mlogloss:0.33693\n",
      "[71]\ttrain-mlogloss:0.33591\n",
      "[72]\ttrain-mlogloss:0.33438\n",
      "[73]\ttrain-mlogloss:0.33403\n",
      "[74]\ttrain-mlogloss:0.33270\n",
      "[75]\ttrain-mlogloss:0.33252\n",
      "[76]\ttrain-mlogloss:0.33238\n",
      "[77]\ttrain-mlogloss:0.33152\n",
      "[78]\ttrain-mlogloss:0.33044\n",
      "[79]\ttrain-mlogloss:0.32845\n",
      "[80]\ttrain-mlogloss:0.32679\n",
      "[81]\ttrain-mlogloss:0.32557\n",
      "[82]\ttrain-mlogloss:0.32354\n",
      "[83]\ttrain-mlogloss:0.32219\n",
      "[84]\ttrain-mlogloss:0.32053\n",
      "[85]\ttrain-mlogloss:0.31989\n",
      "[86]\ttrain-mlogloss:0.31967\n",
      "[87]\ttrain-mlogloss:0.31833\n",
      "[88]\ttrain-mlogloss:0.31743\n",
      "[89]\ttrain-mlogloss:0.31635\n",
      "[90]\ttrain-mlogloss:0.31498\n",
      "[91]\ttrain-mlogloss:0.31385\n",
      "[92]\ttrain-mlogloss:0.31360\n",
      "[93]\ttrain-mlogloss:0.31252\n",
      "[94]\ttrain-mlogloss:0.31240\n",
      "[95]\ttrain-mlogloss:0.31120\n",
      "[96]\ttrain-mlogloss:0.31042\n",
      "[97]\ttrain-mlogloss:0.30859\n",
      "[98]\ttrain-mlogloss:0.30725\n",
      "[99]\ttrain-mlogloss:0.30644\n"
     ]
    }
   ],
   "source": [
    "#model building\n",
    "#100 rounds\n",
    "#learning rate of 0.2\n",
    "booster_custom_bs= xgb.train({'num_class': kClasses,'eval_metric': 'mlogloss','eta':0.2},\n",
    "                               m,\n",
    "                               num_boost_round=kRounds,\n",
    "                               \n",
    "                               obj=softprob_obj,\n",
    "                               evals=[(m, 'train')])"
   ]
  },
  {
   "cell_type": "code",
   "execution_count": 77,
   "metadata": {},
   "outputs": [
    {
     "name": "stdout",
     "output_type": "stream",
     "text": [
      "0.7731666666666667\n",
      "-0.13090355718328242\n",
      "-0.15996958415215828\n"
     ]
    }
   ],
   "source": [
    "#predicting the values for test\n",
    "#printing statiscal parity, equal opportunity and other metrics\n",
    "\n",
    "predt=booster_custom_bs.predict( xgb.DMatrix(X_test))\n",
    "\n",
    "\n",
    "from sklearn.metrics import accuracy_score\n",
    "print(accuracy_score(y_test,predt))\n",
    "\n",
    "\n",
    "print(stat_parity(predt, np.array(X_test['Gender'])))\n",
    "print(eq_oppo(predt, np.array(X_test['Gender']), np.array(y_test)))"
   ]
  },
  {
   "cell_type": "code",
   "execution_count": 79,
   "metadata": {},
   "outputs": [
    {
     "name": "stdout",
     "output_type": "stream",
     "text": [
      "[[4030  673]\n",
      " [ 688  609]]\n",
      "False Positive Rate 0.1431001488411652\n",
      "Accuracy 0.7731666666666667\n"
     ]
    }
   ],
   "source": [
    "eval(predt,y_test)"
   ]
  },
  {
   "cell_type": "code",
   "execution_count": null,
   "metadata": {},
   "outputs": [],
   "source": []
  },
  {
   "cell_type": "code",
   "execution_count": null,
   "metadata": {},
   "outputs": [],
   "source": []
  },
  {
   "cell_type": "markdown",
   "metadata": {},
   "source": [
    "## 7. Reweighing + Penalized Xgboost"
   ]
  },
  {
   "cell_type": "code",
   "execution_count": 80,
   "metadata": {},
   "outputs": [],
   "source": [
    "#Creating a copy of the original dataset with y values appended to it, to calculate the weights\n",
    "\n",
    "X_train_y=X_train.copy()\n",
    "X_test_y=X_test.copy()\n",
    "X_train_y['y']=y_train\n",
    "X_test_y['y']=y_test"
   ]
  },
  {
   "cell_type": "code",
   "execution_count": 81,
   "metadata": {},
   "outputs": [],
   "source": [
    "#setting the protected variable as gender and building a binary dataset from the above copy dataset\n",
    "attributes_params = dict(\n",
    "    protected_attribute_names=['Gender'],\n",
    "    label_names=['y']\n",
    ")\n",
    "X_train_binary = BinaryLabelDataset(df=X_train_y, **attributes_params)\n",
    "X_test_binary = BinaryLabelDataset(df=X_test_y, **attributes_params)\n"
   ]
  },
  {
   "cell_type": "code",
   "execution_count": 82,
   "metadata": {},
   "outputs": [],
   "source": [
    "#calculating the weights by mentioning priviledged and non-priviledged groups\n",
    "RW = Reweighing(unprivileged_groups=[{'Gender':1}],\n",
    "               privileged_groups=[{'Gender':0}])\n"
   ]
  },
  {
   "cell_type": "code",
   "execution_count": 83,
   "metadata": {},
   "outputs": [],
   "source": [
    "X_train_RW=RW.fit_transform(X_train_binary)\n",
    "y_test=X_test_y['y']\n",
    "X_test_y.drop('y',axis=1,inplace=True)\n",
    "y_train=X_train_y['y']\n",
    "X_train_y.drop('y',axis=1,inplace=True)\n"
   ]
  },
  {
   "cell_type": "code",
   "execution_count": 84,
   "metadata": {},
   "outputs": [],
   "source": [
    "weights = X_train_RW.instance_weights"
   ]
  },
  {
   "cell_type": "code",
   "execution_count": 85,
   "metadata": {},
   "outputs": [],
   "source": [
    "#the below code is the code of the xgboost model with the objective function and predict function\n",
    "#the model will multipy the penalty with the grad and hess loss of the model\n",
    "\n",
    "import numpy as np\n",
    "import xgboost as xgb\n",
    "from matplotlib import pyplot as plt\n",
    "import argparse\n",
    "\n",
    "np.random.seed(1994)\n",
    "\n",
    "kRows = X_train.shape[0]\n",
    "kCols = len(X_train.columns)\n",
    "kClasses = 2 # number of classes\n",
    "kRounds =  100      # number of boosting rounds.\n",
    "\n",
    "\n",
    "m = xgb.DMatrix(np.array(X_train_y), np.array(y_train),weight=weights)\n",
    "\n",
    "gender_list=np.array(X_train_y['Gender'])\n",
    "def softmax(x):\n",
    "    '''Softmax function with x as input vector.'''\n",
    "    e = np.exp(x)\n",
    "    return e / np.sum(e)\n",
    "\n",
    "\n",
    "def softprob_obj(predt: np.ndarray, data: xgb.DMatrix):\n",
    "    '''Loss function.  Computing the gradient and approximated hessian (diagonal).\n",
    "    Reimplements the `multi:softprob` inside XGBoost.\n",
    "    '''\n",
    "    labels = data.get_label()\n",
    "    if data.get_weight().size == 0:\n",
    "\n",
    "        weights = np.ones((kRows, 1), dtype=float)\n",
    "    else:\n",
    "        weights = data.get_weight()\n",
    "\n",
    "    assert predt.shape == (kRows, kClasses)\n",
    "    key_list=[0,1]\n",
    "    grad = np.zeros((kRows, kClasses), dtype=float)\n",
    "    hess = np.zeros((kRows, kClasses), dtype=float)\n",
    "\n",
    "    eps = 1e-6\n",
    "\n",
    "\n",
    "    for r in range(predt.shape[0]):\n",
    "        gender=gender_list[r]\n",
    "        target = labels[r]\n",
    "        p = softmax(predt[r, :])\n",
    "        tar=key_list[int(target)]\n",
    "      \n",
    "        max_pred=np.argmax(p)\n",
    "        pred=key_list[max_pred]\n",
    "     \n",
    "        for c in range(predt.shape[1]):\n",
    "            assert target >= 0 or target <= kClasses\n",
    "            g = p[c] - 1.0 if c == target else p[c]\n",
    "\n",
    "            if gender==1:\n",
    "                g = g * (penalty_matrix.loc[tar][pred])\n",
    "            else:\n",
    "                g=g*1\n",
    "              \n",
    "            if gender==1:\n",
    "                  h = max((2.0 * p[c] * (1.0 - p[c]) * penalty_matrix.loc[tar][pred]).item(), eps)\n",
    "            else:\n",
    "               h = max((2.0 * p[c] * (1.0 - p[c]) * 1).item(), eps)\n",
    "            grad[r, c] = g\n",
    "            hess[r, c] = h\n",
    "\n",
    "    grad = grad.reshape((kRows * kClasses, 1))\n",
    "    hess = hess.reshape((kRows * kClasses, 1))\n",
    "    return grad, hess\n",
    "\n",
    "\n",
    "def predict(booster: xgb.Booster, X):\n",
    "\n",
    "    predt = booster.predict(X, output_margin=True)\n",
    "    out = np.zeros(kRows)\n",
    "    for r in range(predt.shape[0]):\n",
    "\n",
    "        i = np.argmax(predt[r])\n",
    "        out[r] = i\n",
    "    return out\n"
   ]
  },
  {
   "cell_type": "code",
   "execution_count": 86,
   "metadata": {},
   "outputs": [
    {
     "name": "stdout",
     "output_type": "stream",
     "text": [
      "[20:05:56] WARNING: /var/folders/nz/j6p8yfhx1mv_0grj5xl4650h0000gp/T/abs_21wtzqx5vy/croot/xgboost-split_1675457780668/work/src/learner.cc:767: \n",
      "Parameters: { \"weight\" } are not used.\n",
      "\n",
      "[0]\ttrain-mlogloss:0.61282\n",
      "[1]\ttrain-mlogloss:0.55888\n",
      "[2]\ttrain-mlogloss:0.52082\n",
      "[3]\ttrain-mlogloss:0.49342\n",
      "[4]\ttrain-mlogloss:0.47337\n",
      "[5]\ttrain-mlogloss:0.45794\n",
      "[6]\ttrain-mlogloss:0.44601\n",
      "[7]\ttrain-mlogloss:0.43687\n",
      "[8]\ttrain-mlogloss:0.42926\n",
      "[9]\ttrain-mlogloss:0.42302\n",
      "[10]\ttrain-mlogloss:0.41760\n",
      "[11]\ttrain-mlogloss:0.41352\n",
      "[12]\ttrain-mlogloss:0.41022\n",
      "[13]\ttrain-mlogloss:0.40714\n",
      "[14]\ttrain-mlogloss:0.40427\n",
      "[15]\ttrain-mlogloss:0.40186\n",
      "[16]\ttrain-mlogloss:0.39958\n",
      "[17]\ttrain-mlogloss:0.39765\n",
      "[18]\ttrain-mlogloss:0.39558\n",
      "[19]\ttrain-mlogloss:0.39427\n",
      "[20]\ttrain-mlogloss:0.39349\n",
      "[21]\ttrain-mlogloss:0.39099\n",
      "[22]\ttrain-mlogloss:0.38912\n",
      "[23]\ttrain-mlogloss:0.38821\n",
      "[24]\ttrain-mlogloss:0.38674\n",
      "[25]\ttrain-mlogloss:0.38620\n",
      "[26]\ttrain-mlogloss:0.38503\n",
      "[27]\ttrain-mlogloss:0.38450\n",
      "[28]\ttrain-mlogloss:0.38404\n",
      "[29]\ttrain-mlogloss:0.38165\n",
      "[30]\ttrain-mlogloss:0.38058\n",
      "[31]\ttrain-mlogloss:0.37888\n",
      "[32]\ttrain-mlogloss:0.37848\n",
      "[33]\ttrain-mlogloss:0.37692\n",
      "[34]\ttrain-mlogloss:0.37571\n",
      "[35]\ttrain-mlogloss:0.37485\n",
      "[36]\ttrain-mlogloss:0.37404\n",
      "[37]\ttrain-mlogloss:0.37323\n",
      "[38]\ttrain-mlogloss:0.37169\n",
      "[39]\ttrain-mlogloss:0.37157\n",
      "[40]\ttrain-mlogloss:0.37052\n",
      "[41]\ttrain-mlogloss:0.37007\n",
      "[42]\ttrain-mlogloss:0.36816\n",
      "[43]\ttrain-mlogloss:0.36695\n",
      "[44]\ttrain-mlogloss:0.36682\n",
      "[45]\ttrain-mlogloss:0.36551\n",
      "[46]\ttrain-mlogloss:0.36448\n",
      "[47]\ttrain-mlogloss:0.36254\n",
      "[48]\ttrain-mlogloss:0.36166\n",
      "[49]\ttrain-mlogloss:0.36097\n",
      "[50]\ttrain-mlogloss:0.35962\n",
      "[51]\ttrain-mlogloss:0.35814\n",
      "[52]\ttrain-mlogloss:0.35756\n",
      "[53]\ttrain-mlogloss:0.35549\n",
      "[54]\ttrain-mlogloss:0.35408\n",
      "[55]\ttrain-mlogloss:0.35365\n",
      "[56]\ttrain-mlogloss:0.35353\n",
      "[57]\ttrain-mlogloss:0.35259\n",
      "[58]\ttrain-mlogloss:0.35232\n",
      "[59]\ttrain-mlogloss:0.35097\n",
      "[60]\ttrain-mlogloss:0.35004\n",
      "[61]\ttrain-mlogloss:0.34866\n",
      "[62]\ttrain-mlogloss:0.34786\n",
      "[63]\ttrain-mlogloss:0.34712\n",
      "[64]\ttrain-mlogloss:0.34559\n",
      "[65]\ttrain-mlogloss:0.34483\n",
      "[66]\ttrain-mlogloss:0.34338\n",
      "[67]\ttrain-mlogloss:0.34325\n",
      "[68]\ttrain-mlogloss:0.34287\n",
      "[69]\ttrain-mlogloss:0.34181\n",
      "[70]\ttrain-mlogloss:0.34039\n",
      "[71]\ttrain-mlogloss:0.33973\n",
      "[72]\ttrain-mlogloss:0.33880\n",
      "[73]\ttrain-mlogloss:0.33765\n",
      "[74]\ttrain-mlogloss:0.33611\n",
      "[75]\ttrain-mlogloss:0.33530\n",
      "[76]\ttrain-mlogloss:0.33415\n",
      "[77]\ttrain-mlogloss:0.33373\n",
      "[78]\ttrain-mlogloss:0.33229\n",
      "[79]\ttrain-mlogloss:0.33152\n",
      "[80]\ttrain-mlogloss:0.33062\n",
      "[81]\ttrain-mlogloss:0.33008\n",
      "[82]\ttrain-mlogloss:0.32933\n",
      "[83]\ttrain-mlogloss:0.32901\n",
      "[84]\ttrain-mlogloss:0.32866\n",
      "[85]\ttrain-mlogloss:0.32746\n",
      "[86]\ttrain-mlogloss:0.32644\n",
      "[87]\ttrain-mlogloss:0.32585\n",
      "[88]\ttrain-mlogloss:0.32438\n",
      "[89]\ttrain-mlogloss:0.32373\n",
      "[90]\ttrain-mlogloss:0.32308\n",
      "[91]\ttrain-mlogloss:0.32188\n",
      "[92]\ttrain-mlogloss:0.32127\n",
      "[93]\ttrain-mlogloss:0.32006\n",
      "[94]\ttrain-mlogloss:0.31950\n",
      "[95]\ttrain-mlogloss:0.31916\n",
      "[96]\ttrain-mlogloss:0.31827\n",
      "[97]\ttrain-mlogloss:0.31727\n",
      "[98]\ttrain-mlogloss:0.31560\n",
      "[99]\ttrain-mlogloss:0.31533\n"
     ]
    }
   ],
   "source": [
    "#model building\n",
    "#100 rounds\n",
    "#learning rate of 0.2\n",
    "#WEIGHTS ASSIGNED IN THE WEIGHT PARAMETER\n",
    "booster_custom_aif= xgb.train({'num_class': kClasses,'eval_metric': 'mlogloss','eta':0.2,'weight':weights},\n",
    "                               m,\n",
    "                               num_boost_round=kRounds,\n",
    "                               \n",
    "                               obj=softprob_obj,\n",
    "                               evals=[(m, 'train')])"
   ]
  },
  {
   "cell_type": "code",
   "execution_count": 87,
   "metadata": {},
   "outputs": [
    {
     "name": "stdout",
     "output_type": "stream",
     "text": [
      "0.8206666666666667\n",
      "-0.01033315893402642\n",
      "-0.01508695179878139\n"
     ]
    }
   ],
   "source": [
    "#predicting the values for test\n",
    "#printing statiscal parity, equal opportunity and other metrics\n",
    "\n",
    "\n",
    "predt=booster_custom_aif.predict( xgb.DMatrix(X_test))\n",
    "\n",
    "\n",
    "from sklearn.metrics import accuracy_score\n",
    "print(accuracy_score(y_test,predt))\n",
    "\n",
    "\n",
    "print(stat_parity(predt, np.array(X_test['Gender'])))\n",
    "print(eq_oppo(predt, np.array(X_test['Gender']), np.array(y_test)))"
   ]
  },
  {
   "cell_type": "code",
   "execution_count": 88,
   "metadata": {},
   "outputs": [
    {
     "name": "stdout",
     "output_type": "stream",
     "text": [
      "[[4453  250]\n",
      " [ 826  471]]\n",
      "False Positive Rate 0.0531575590048905\n",
      "Accuracy 0.8206666666666667\n"
     ]
    }
   ],
   "source": [
    "eval(predt,y_test)"
   ]
  },
  {
   "cell_type": "markdown",
   "metadata": {},
   "source": [
    "## 8. Class weight + LightGBM"
   ]
  },
  {
   "cell_type": "code",
   "execution_count": 100,
   "metadata": {},
   "outputs": [],
   "source": [
    "#CALCULATING THE CLASS WEIGHTS USING THE GENDER CLASS \n",
    "\n",
    "y_true_gender=X_train['Gender']\n",
    "class_weights_gender = compute_class_weight('balanced', classes=np.unique(y_true_gender), y=y_true_gender)\n"
   ]
  },
  {
   "cell_type": "code",
   "execution_count": 101,
   "metadata": {},
   "outputs": [
    {
     "data": {
      "text/plain": [
       "array([1.2536565 , 0.83171611])"
      ]
     },
     "execution_count": 101,
     "metadata": {},
     "output_type": "execute_result"
    }
   ],
   "source": [
    "class_weights_gender"
   ]
  },
  {
   "cell_type": "code",
   "execution_count": 102,
   "metadata": {},
   "outputs": [],
   "source": [
    "#PASSING THE WEIGHTS TO THE PARAMETERS\n",
    "params = {\n",
    "    'objective': 'binary',\n",
    "    'scale_pos_weight':class_weights_gender[1]\n",
    "}"
   ]
  },
  {
   "cell_type": "code",
   "execution_count": 103,
   "metadata": {},
   "outputs": [
    {
     "name": "stdout",
     "output_type": "stream",
     "text": [
      "[LightGBM] [Warning] Found whitespace in feature_names, replace with underlines\n",
      "[LightGBM] [Info] Number of positive: 5339, number of negative: 18661\n",
      "[LightGBM] [Info] Auto-choosing row-wise multi-threading, the overhead of testing was 0.000536 seconds.\n",
      "You can set `force_row_wise=true` to remove the overhead.\n",
      "And if memory is not enough, you can set `force_col_wise=true`.\n",
      "[LightGBM] [Info] Total Bins 3210\n",
      "[LightGBM] [Info] Number of data points in the train set: 24000, number of used features: 23\n",
      "[LightGBM] [Warning] Found whitespace in feature_names, replace with underlines\n",
      "[LightGBM] [Info] [binary:BoostFromScore]: pavg=0.222458 -> initscore=-1.251397\n",
      "[LightGBM] [Info] Start training from score -1.251397\n"
     ]
    }
   ],
   "source": [
    "# building train and test dataset for lightgbm and training the model on the train dataset\n",
    "lgb_train = lgb.Dataset(X_train, y_train)\n",
    "lgb_test = lgb.Dataset(X_test, y_test)\n",
    "\n",
    "model_cw= lgb.train(params,\n",
    "                  lgb_train,\n",
    "                  valid_sets=[lgb_train, lgb_test])"
   ]
  },
  {
   "cell_type": "code",
   "execution_count": 104,
   "metadata": {},
   "outputs": [],
   "source": [
    "#predicting on test with the best iteration model and converting the probabilities to 1 and 0\n",
    "y_pred_cw= list(model_cw.predict(X_test, num_iteration=model_cw.best_iteration))\n",
    "y_pred_cw=[1 if x>=0.5 else 0 for x in y_pred_cw ]"
   ]
  },
  {
   "cell_type": "code",
   "execution_count": 105,
   "metadata": {},
   "outputs": [
    {
     "data": {
      "text/plain": [
       "-0.020266887197403133"
      ]
     },
     "execution_count": 105,
     "metadata": {},
     "output_type": "execute_result"
    }
   ],
   "source": [
    "#statistical parity\n",
    "stat_parity(y_pred_cw, np.array(X_test['Gender']))"
   ]
  },
  {
   "cell_type": "code",
   "execution_count": 106,
   "metadata": {},
   "outputs": [
    {
     "data": {
      "text/plain": [
       "-0.041703287479138484"
      ]
     },
     "execution_count": 106,
     "metadata": {},
     "output_type": "execute_result"
    }
   ],
   "source": [
    "#equal opportunity\n",
    "eq_oppo(y_pred_cw, np.array(X_test['Gender']), np.array(y_test))"
   ]
  },
  {
   "cell_type": "code",
   "execution_count": 107,
   "metadata": {},
   "outputs": [
    {
     "name": "stdout",
     "output_type": "stream",
     "text": [
      "[[4516  187]\n",
      " [ 854  443]]\n",
      "False Positive Rate 0.03976185413565809\n",
      "Accuracy 0.8265\n"
     ]
    }
   ],
   "source": [
    "eval(y_pred_cw,y_test)"
   ]
  },
  {
   "cell_type": "code",
   "execution_count": null,
   "metadata": {},
   "outputs": [],
   "source": []
  }
 ],
 "metadata": {
  "kernelspec": {
   "display_name": "Python 3.11.4 ('base')",
   "language": "python",
   "name": "python3"
  },
  "language_info": {
   "codemirror_mode": {
    "name": "ipython",
    "version": 3
   },
   "file_extension": ".py",
   "mimetype": "text/x-python",
   "name": "python",
   "nbconvert_exporter": "python",
   "pygments_lexer": "ipython3",
   "version": "3.11.4"
  },
  "orig_nbformat": 4,
  "vscode": {
   "interpreter": {
    "hash": "028f9caa63fc2758ded592d07e40ca7160b4c5f2399cd5d7957eb2917ceec43a"
   }
  }
 },
 "nbformat": 4,
 "nbformat_minor": 2
}
